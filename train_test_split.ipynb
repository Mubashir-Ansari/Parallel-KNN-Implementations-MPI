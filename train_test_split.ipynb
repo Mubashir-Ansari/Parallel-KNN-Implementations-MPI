{
 "cells": [
  {
   "cell_type": "code",
   "execution_count": 40,
   "id": "fifth-kingston",
   "metadata": {},
   "outputs": [],
   "source": [
    "from sklearn.datasets import load_diabetes\n",
    "import pandas as pd\n",
    "from sklearn.preprocessing import StandardScaler\n",
    "from sklearn.model_selection import train_test_split"
   ]
  },
  {
   "cell_type": "code",
   "execution_count": 41,
   "id": "hairy-local",
   "metadata": {},
   "outputs": [],
   "source": [
    "df = pd.read_csv(\"diabetes.csv\")\n",
    "X = df.values[:,0:8]\n",
    "y = df.values[:,8]\n",
    "sd = StandardScaler()\n",
    "sd.fit(X)\n",
    "X = sd.transform(X)\n",
    "\n",
    "X_train,X_test, y_train, y_test = train_test_split(X,y,test_size=0.1)"
   ]
  },
  {
   "cell_type": "raw",
   "id": "normal-bruce",
   "metadata": {},
   "source": []
  },
  {
   "cell_type": "code",
   "execution_count": 45,
   "id": "million-emergency",
   "metadata": {},
   "outputs": [
    {
     "name": "stdout",
     "output_type": "stream",
     "text": [
      "            0         1         2         3         4         5         6  \\\n",
      "0   -0.250952 -1.279882  0.666618  0.656358 -0.085088  0.280164  2.476871   \n",
      "1   -0.844885 -1.279882 -0.729221 -1.288212 -0.692891 -1.636316 -0.645932   \n",
      "2   -0.844885  1.599455 -0.057150  1.785463  4.334506  1.320902  0.695001   \n",
      "3   -0.844885 -0.998208 -2.331851 -0.096379 -0.475818 -0.532119  0.263124   \n",
      "4    0.936914 -0.591345  0.253036  1.220910  0.218813  0.660922 -0.809018   \n",
      "..        ...       ...       ...       ...       ...       ...       ...   \n",
      "686 -1.141852  0.347569  0.459827 -1.288212 -0.692891  0.051710 -0.238216   \n",
      "687  2.124780 -0.560048 -0.057150  1.220910 -0.692891  1.803195 -1.044587   \n",
      "688  0.639947  0.128489  0.459827  0.656358 -0.692891 -0.557503  0.281245   \n",
      "689  0.342981 -1.029505 -0.160546  0.029077 -0.493184 -0.963644 -0.392242   \n",
      "690  0.046014  0.034598 -0.057150 -1.288212 -0.692891  0.381700 -0.235196   \n",
      "\n",
      "            7  \n",
      "0   -0.531023  \n",
      "1   -1.041549  \n",
      "2   -0.445935  \n",
      "3   -1.041549  \n",
      "4    1.000557  \n",
      "..        ...  \n",
      "686 -1.041549  \n",
      "687  0.745293  \n",
      "688  1.340908  \n",
      "689 -0.275760  \n",
      "690 -0.360847  \n",
      "\n",
      "[691 rows x 8 columns]\n"
     ]
    }
   ],
   "source": [
    "\n",
    "xt = pd.DataFrame(X_train)\n",
    "\n",
    "\n",
    "\n",
    "print(xt)\n",
    "xt.to_csv(\"X_train\",index=False)"
   ]
  },
  {
   "cell_type": "code",
   "execution_count": 46,
   "id": "herbal-sheep",
   "metadata": {},
   "outputs": [],
   "source": [
    "\n",
    "pd.DataFrame(X_test).to_csv(\"X_test\",index=False)\n",
    "\n",
    "pd.DataFrame(y_train).to_csv(\"y_train\",index=False)\n",
    "\n",
    "pd.DataFrame(y_test).to_csv(\"y_test\",index=False)"
   ]
  },
  {
   "cell_type": "code",
   "execution_count": 47,
   "id": "surprising-thompson",
   "metadata": {},
   "outputs": [
    {
     "data": {
      "text/plain": [
       "(768, 9)"
      ]
     },
     "execution_count": 47,
     "metadata": {},
     "output_type": "execute_result"
    }
   ],
   "source": [
    "df.shape"
   ]
  },
  {
   "cell_type": "code",
   "execution_count": null,
   "id": "running-property",
   "metadata": {},
   "outputs": [],
   "source": []
  },
  {
   "cell_type": "code",
   "execution_count": null,
   "id": "reasonable-recommendation",
   "metadata": {},
   "outputs": [],
   "source": []
  }
 ],
 "metadata": {
  "kernelspec": {
   "display_name": "Python 3",
   "language": "python",
   "name": "python3"
  },
  "language_info": {
   "codemirror_mode": {
    "name": "ipython",
    "version": 3
   },
   "file_extension": ".py",
   "mimetype": "text/x-python",
   "name": "python",
   "nbconvert_exporter": "python",
   "pygments_lexer": "ipython3",
   "version": "3.8.6"
  }
 },
 "nbformat": 4,
 "nbformat_minor": 5
}
